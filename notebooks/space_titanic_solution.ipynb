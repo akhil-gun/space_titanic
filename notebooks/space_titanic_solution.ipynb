{
 "cells": [
  {
   "cell_type": "markdown",
   "id": "c93a9e12",
   "metadata": {},
   "source": [
    "## This notebook contains the \"answers\" to the space titanic challenge. It is highly recommended you do not run this notebook directly until after you have tried the blank notebook on your own."
   ]
  },
  {
   "cell_type": "markdown",
   "id": "63048fb0",
   "metadata": {},
   "source": [
    "# Space Titanic Competition\n",
    "\n",
    "Welcome to the year 2912, where your data science skills are needed to solve a cosmic mystery. We've received a transmission from four lightyears away and things aren't looking good.\n",
    "\n",
    "The Spaceship Titanic was an interstellar passenger liner launched a month ago. With almost 13,000 passengers on board, the vessel set out on its maiden voyage transporting emigrants from our solar system to three newly habitable exoplanets orbiting nearby stars.\n",
    "\n",
    "While rounding Alpha Centauri en route to its first destination—the torrid 55 Cancri E—the unwary Spaceship Titanic collided with a spacetime anomaly hidden within a dust cloud. Sadly, it met a similar fate as its namesake from 1000 years before. Though the ship stayed intact, almost half of the passengers were transported to an alternate dimension!\n",
    "\n",
    "To help rescue crews and retrieve the lost passengers, you are challenged to predict which passengers were transported by the anomaly using records recovered from the spaceship’s damaged computer system.\n",
    "\n",
    "Help save them and change history!\n",
    "\n",
    "<img src=\"images/competition_image.jpeg\" width=\"500\">\n",
    "\n",
    "[link to competition homepage](https://www.kaggle.com/c/spaceship-titanic/overview)"
   ]
  },
  {
   "cell_type": "markdown",
   "id": "6c5511a9",
   "metadata": {},
   "source": [
    "### Evaluation Criteria\n",
    "\n",
    "Submissions are evaluated based on their classification accuracy, the percentage of predicted labels that are correct.\n",
    "\n",
    "Accuracy = (TP + TN) / (TP + TN + FP + FN)\n",
    "\n",
    "Where TP = True Positives, TN = True Negatives, FP = False Positives, and FN = False Negatives.\n",
    "\n",
    "### Submission Format\n",
    "\n",
    "The submission format for the competition is a csv file with the following format:\n",
    "\n",
    ">PassengerId,Transported<br>\n",
    ">0013_01,False<br>\n",
    ">0018_01,False<br>\n",
    ">0019_01,False<br>\n",
    ">0021_01,False<br>\n",
    ">etc."
   ]
  },
  {
   "cell_type": "markdown",
   "id": "15f41bfe",
   "metadata": {},
   "source": [
    "In this competition your task is to predict whether a passenger was transported to an alternate dimension during the Spaceship Titanic's collision with the spacetime anomaly. To help you make these predictions, you're given a set of personal records recovered from the ship's damaged computer system.\n",
    "\n",
    "### File and Data Field Descriptions\n",
    "* train.csv - Personal records for about two-thirds (~8700) of the passengers, to be used as training data.\n",
    "    * PassengerId - A unique Id for each passenger. Each Id takes the form gggg_pp where gggg indicates a group the passenger is travelling with and pp is their number within the group. People in a group are often family members, but not always.\n",
    "    * HomePlanet - The planet the passenger departed from, typically their planet of permanent residence.\n",
    "    * CryoSleep - Indicates whether the passenger elected to be put into suspended animation for the duration of the voyage. Passengers in cryosleep are confined to their cabins.\n",
    "    * Cabin - The cabin number where the passenger is staying. Takes the form deck/num/side, where side can be either P for Port or S for Starboard.\n",
    "    * Destination - The planet the passenger will be debarking to.\n",
    "    * Age - The age of the passenger.\n",
    "    * VIP - Whether the passenger has paid for special VIP service during the voyage.\n",
    "    * RoomService, FoodCourt, ShoppingMall, Spa, VRDeck - Amount the passenger has billed at each of the Spaceship Titanic's many luxury amenities.\n",
    "    * Name - The first and last names of the passenger.\n",
    "    * Transported - Whether the passenger was transported to another dimension. This is the target, the column you are trying to predict.\n",
    "* test.csv - Personal records for the remaining one-third (~4300) of the passengers, to be used as test data. Your task is to predict the value of Transported for the passengers in this set.\n",
    "* sample_submission.csv - A submission file in the correct format.\n",
    "    * PassengerId - Id for each passenger in the test set.\n",
    "    * Transported - The target. For each passenger, predict either True or False."
   ]
  },
  {
   "cell_type": "markdown",
   "id": "0527c0b7",
   "metadata": {},
   "source": [
    "### Questions before we start\n",
    "\n",
    "* What do you think are the \"easiest\" features to start with?\n",
    "* What engineered features can you think of?\n",
    "    * What will we need to do to create these features?\n",
    "* What do you *think* will be the most influential factor?\n",
    "* Some of these features are numeric, others are non-numeric categorical features. What type of pre-processing do you need to do to make these features readable for our model fitting?"
   ]
  },
  {
   "cell_type": "code",
   "execution_count": 1,
   "id": "7e8076b2",
   "metadata": {},
   "outputs": [],
   "source": [
    "import numpy as np\n",
    "import pandas as pd\n",
    "import os\n",
    "\n",
    "from matplotlib import pyplot as plt\n",
    "import seaborn as sns\n",
    "\n",
    "from sklearn import preprocessing\n",
    "from sklearn import model_selection\n",
    "from sklearn import metrics\n",
    "from sklearn import model_selection\n",
    "from sklearn import ensemble\n",
    "from sklearn import pipeline\n",
    "\n",
    "import warnings\n",
    "warnings.filterwarnings('ignore')\n",
    "\n",
    "%matplotlib inline"
   ]
  },
  {
   "cell_type": "markdown",
   "id": "43dd3a2f",
   "metadata": {},
   "source": [
    "### Load the data\n",
    "\n",
    "**Instructions:**\n",
    "The first thing you need to do is load your data. syntax for pandas read_csv is below. You will need to do this for both testing and training data (two separate dataframes). Call them whatever you like, but I'll be using `df_train` and `df_test`.\n",
    "\n",
    "`df = pd.read_csv(file)`\n",
    "    \n",
    "**hints**: \n",
    "\n",
    "Testing data are in `./data/test.csv`\n",
    "\n",
    "Training data are in `./data/train.csv`"
   ]
  },
  {
   "cell_type": "code",
   "execution_count": 3,
   "id": "84548f06",
   "metadata": {},
   "outputs": [],
   "source": [
    "data_dir = './data'"
   ]
  },
  {
   "cell_type": "code",
   "execution_count": 4,
   "id": "bb0a62d7",
   "metadata": {},
   "outputs": [],
   "source": [
    "test_file = os.path.join(data_dir, 'test.csv')\n",
    "train_file = os.path.join(data_dir, 'train.csv')"
   ]
  },
  {
   "cell_type": "code",
   "execution_count": 5,
   "id": "b6cb860f",
   "metadata": {},
   "outputs": [],
   "source": [
    "df_train = pd.read_csv(train_file)\n",
    "df_test = pd.read_csv(test_file)"
   ]
  },
  {
   "cell_type": "markdown",
   "id": "2662e109",
   "metadata": {},
   "source": [
    "### Fill NaN values\n",
    "\n",
    "**Instructions:** There are multiple ways to do this. For now, let's use the *mode* of each column to fill in the NaN values.\n",
    "\n",
    "**hints:**\n",
    "\n",
    "This command will show you how many NaNs are in each column of a dataframe: `df.isna().sum()`\n",
    "\n",
    "To fill the NaN values for a column named `col` inplace with the mode, use: `df[col].fillna(df[col].mode()[0], inplace=True)`\n",
    "\n",
    "To get a list of columns, use: `df.columns.tolist()`\n",
    "\n",
    "Remember to do this for both training and testing datasets."
   ]
  },
  {
   "cell_type": "code",
   "execution_count": 7,
   "id": "e277fde3",
   "metadata": {},
   "outputs": [
    {
     "data": {
      "text/plain": [
       "PassengerId       0\n",
       "HomePlanet      201\n",
       "CryoSleep       217\n",
       "Cabin           199\n",
       "Destination     182\n",
       "Age             179\n",
       "VIP             203\n",
       "RoomService     181\n",
       "FoodCourt       183\n",
       "ShoppingMall    208\n",
       "Spa             183\n",
       "VRDeck          188\n",
       "Name            200\n",
       "Transported       0\n",
       "dtype: int64"
      ]
     },
     "execution_count": 7,
     "metadata": {},
     "output_type": "execute_result"
    }
   ],
   "source": [
    "df_train.isna().sum()"
   ]
  },
  {
   "cell_type": "code",
   "execution_count": 8,
   "id": "79e2b218",
   "metadata": {},
   "outputs": [
    {
     "data": {
      "text/plain": [
       "PassengerId       0\n",
       "HomePlanet       87\n",
       "CryoSleep        93\n",
       "Cabin           100\n",
       "Destination      92\n",
       "Age              91\n",
       "VIP              93\n",
       "RoomService      82\n",
       "FoodCourt       106\n",
       "ShoppingMall     98\n",
       "Spa             101\n",
       "VRDeck           80\n",
       "Name             94\n",
       "dtype: int64"
      ]
     },
     "execution_count": 8,
     "metadata": {},
     "output_type": "execute_result"
    }
   ],
   "source": [
    "df_test.isna().sum()"
   ]
  },
  {
   "cell_type": "code",
   "execution_count": 9,
   "id": "232b6ed1",
   "metadata": {},
   "outputs": [],
   "source": [
    "for col in df_train.columns.tolist():\n",
    "    df_train[col].fillna(df_train[col].mode()[0], inplace=True)"
   ]
  },
  {
   "cell_type": "code",
   "execution_count": 10,
   "id": "ef3787df",
   "metadata": {},
   "outputs": [],
   "source": [
    "for col in df_test.columns.tolist():\n",
    "    df_test[col].fillna(df_test[col].mode()[0], inplace=True)"
   ]
  },
  {
   "cell_type": "markdown",
   "id": "2dcaac52",
   "metadata": {},
   "source": [
    "### Inspect the data\n",
    "\n",
    "**Instructions:** It's important to understand the data you are working with. Take this time to look at your data in the dataframe and using visualization. You can use either matplotlib or seaborn, but I'll give a few useful hints below.\n",
    "\n",
    "Start by looking at these features: 'HomePlanet', 'Destination', 'CryoSleep', 'VIP', 'Age'\n",
    "\n",
    "**hints:**\n",
    "\n",
    "To show the first five rows of a dataframe: `df.head(5)`\n",
    "\n",
    "To show the value counts in a column `col`: `df[col].value_counts()`\n",
    "\n",
    "To plot the value counts as a bar plot for a column `col`: `df[col].value_counts().plot.bar()`\n",
    "\n",
    "To plot a histogram of a column `col`: `df[col].plot.hist()`"
   ]
  },
  {
   "cell_type": "code",
   "execution_count": 12,
   "id": "33a267f9",
   "metadata": {},
   "outputs": [
    {
     "data": {
      "text/html": [
       "<div>\n",
       "<style scoped>\n",
       "    .dataframe tbody tr th:only-of-type {\n",
       "        vertical-align: middle;\n",
       "    }\n",
       "\n",
       "    .dataframe tbody tr th {\n",
       "        vertical-align: top;\n",
       "    }\n",
       "\n",
       "    .dataframe thead th {\n",
       "        text-align: right;\n",
       "    }\n",
       "</style>\n",
       "<table border=\"1\" class=\"dataframe\">\n",
       "  <thead>\n",
       "    <tr style=\"text-align: right;\">\n",
       "      <th></th>\n",
       "      <th>PassengerId</th>\n",
       "      <th>HomePlanet</th>\n",
       "      <th>CryoSleep</th>\n",
       "      <th>Cabin</th>\n",
       "      <th>Destination</th>\n",
       "      <th>Age</th>\n",
       "      <th>VIP</th>\n",
       "      <th>RoomService</th>\n",
       "      <th>FoodCourt</th>\n",
       "      <th>ShoppingMall</th>\n",
       "      <th>Spa</th>\n",
       "      <th>VRDeck</th>\n",
       "      <th>Name</th>\n",
       "      <th>Transported</th>\n",
       "    </tr>\n",
       "  </thead>\n",
       "  <tbody>\n",
       "    <tr>\n",
       "      <th>0</th>\n",
       "      <td>0001_01</td>\n",
       "      <td>Europa</td>\n",
       "      <td>False</td>\n",
       "      <td>B/0/P</td>\n",
       "      <td>TRAPPIST-1e</td>\n",
       "      <td>39.0</td>\n",
       "      <td>False</td>\n",
       "      <td>0.0</td>\n",
       "      <td>0.0</td>\n",
       "      <td>0.0</td>\n",
       "      <td>0.0</td>\n",
       "      <td>0.0</td>\n",
       "      <td>Maham Ofracculy</td>\n",
       "      <td>False</td>\n",
       "    </tr>\n",
       "    <tr>\n",
       "      <th>1</th>\n",
       "      <td>0002_01</td>\n",
       "      <td>Earth</td>\n",
       "      <td>False</td>\n",
       "      <td>F/0/S</td>\n",
       "      <td>TRAPPIST-1e</td>\n",
       "      <td>24.0</td>\n",
       "      <td>False</td>\n",
       "      <td>109.0</td>\n",
       "      <td>9.0</td>\n",
       "      <td>25.0</td>\n",
       "      <td>549.0</td>\n",
       "      <td>44.0</td>\n",
       "      <td>Juanna Vines</td>\n",
       "      <td>True</td>\n",
       "    </tr>\n",
       "    <tr>\n",
       "      <th>2</th>\n",
       "      <td>0003_01</td>\n",
       "      <td>Europa</td>\n",
       "      <td>False</td>\n",
       "      <td>A/0/S</td>\n",
       "      <td>TRAPPIST-1e</td>\n",
       "      <td>58.0</td>\n",
       "      <td>True</td>\n",
       "      <td>43.0</td>\n",
       "      <td>3576.0</td>\n",
       "      <td>0.0</td>\n",
       "      <td>6715.0</td>\n",
       "      <td>49.0</td>\n",
       "      <td>Altark Susent</td>\n",
       "      <td>False</td>\n",
       "    </tr>\n",
       "    <tr>\n",
       "      <th>3</th>\n",
       "      <td>0003_02</td>\n",
       "      <td>Europa</td>\n",
       "      <td>False</td>\n",
       "      <td>A/0/S</td>\n",
       "      <td>TRAPPIST-1e</td>\n",
       "      <td>33.0</td>\n",
       "      <td>False</td>\n",
       "      <td>0.0</td>\n",
       "      <td>1283.0</td>\n",
       "      <td>371.0</td>\n",
       "      <td>3329.0</td>\n",
       "      <td>193.0</td>\n",
       "      <td>Solam Susent</td>\n",
       "      <td>False</td>\n",
       "    </tr>\n",
       "    <tr>\n",
       "      <th>4</th>\n",
       "      <td>0004_01</td>\n",
       "      <td>Earth</td>\n",
       "      <td>False</td>\n",
       "      <td>F/1/S</td>\n",
       "      <td>TRAPPIST-1e</td>\n",
       "      <td>16.0</td>\n",
       "      <td>False</td>\n",
       "      <td>303.0</td>\n",
       "      <td>70.0</td>\n",
       "      <td>151.0</td>\n",
       "      <td>565.0</td>\n",
       "      <td>2.0</td>\n",
       "      <td>Willy Santantines</td>\n",
       "      <td>True</td>\n",
       "    </tr>\n",
       "  </tbody>\n",
       "</table>\n",
       "</div>"
      ],
      "text/plain": [
       "  PassengerId HomePlanet  CryoSleep  Cabin  Destination   Age    VIP  \\\n",
       "0     0001_01     Europa      False  B/0/P  TRAPPIST-1e  39.0  False   \n",
       "1     0002_01      Earth      False  F/0/S  TRAPPIST-1e  24.0  False   \n",
       "2     0003_01     Europa      False  A/0/S  TRAPPIST-1e  58.0   True   \n",
       "3     0003_02     Europa      False  A/0/S  TRAPPIST-1e  33.0  False   \n",
       "4     0004_01      Earth      False  F/1/S  TRAPPIST-1e  16.0  False   \n",
       "\n",
       "   RoomService  FoodCourt  ShoppingMall     Spa  VRDeck               Name  \\\n",
       "0          0.0        0.0           0.0     0.0     0.0    Maham Ofracculy   \n",
       "1        109.0        9.0          25.0   549.0    44.0       Juanna Vines   \n",
       "2         43.0     3576.0           0.0  6715.0    49.0      Altark Susent   \n",
       "3          0.0     1283.0         371.0  3329.0   193.0       Solam Susent   \n",
       "4        303.0       70.0         151.0   565.0     2.0  Willy Santantines   \n",
       "\n",
       "   Transported  \n",
       "0        False  \n",
       "1         True  \n",
       "2        False  \n",
       "3        False  \n",
       "4         True  "
      ]
     },
     "execution_count": 12,
     "metadata": {},
     "output_type": "execute_result"
    }
   ],
   "source": [
    "df_train.head(5)"
   ]
  },
  {
   "cell_type": "code",
   "execution_count": 13,
   "id": "a9e3de47",
   "metadata": {},
   "outputs": [
    {
     "name": "stdout",
     "output_type": "stream",
     "text": [
      "Earth     4803\n",
      "Europa    2131\n",
      "Mars      1759\n",
      "Name: HomePlanet, dtype: int64\n"
     ]
    },
    {
     "data": {
      "image/png": "[encoded data removed]",
      "text/plain": [
       "<Figure size 432x288 with 1 Axes>"
      ]
     },
     "metadata": {
      "needs_background": "light"
     },
     "output_type": "display_data"
    },
    {
     "name": "stdout",
     "output_type": "stream",
     "text": [
      "TRAPPIST-1e      6097\n",
      "55 Cancri e      1800\n",
      "PSO J318.5-22     796\n",
      "Name: Destination, dtype: int64\n"
     ]
    },
    {
     "data": {
      "image/png": "[encoded data removed]",
      "text/plain": [
       "<Figure size 432x288 with 1 Axes>"
      ]
     },
     "metadata": {
      "needs_background": "light"
     },
     "output_type": "display_data"
    },
    {
     "name": "stdout",
     "output_type": "stream",
     "text": [
      "False    5656\n",
      "True     3037\n",
      "Name: CryoSleep, dtype: int64\n"
     ]
    },
    {
     "data": {
      "image/png": "[encoded data removed]",
      "text/plain": [
       "<Figure size 432x288 with 1 Axes>"
      ]
     },
     "metadata": {
      "needs_background": "light"
     },
     "output_type": "display_data"
    },
    {
     "name": "stdout",
     "output_type": "stream",
     "text": [
      "False    8494\n",
      "True      199\n",
      "Name: VIP, dtype: int64\n"
     ]
    },
    {
     "data": {
      "image/png": "[encoded data removed]",
      "text/plain": [
       "<Figure size 432x288 with 1 Axes>"
      ]
     },
     "metadata": {
      "needs_background": "light"
     },
     "output_type": "display_data"
    }
   ],
   "source": [
    "for col in ['HomePlanet', 'Destination', 'CryoSleep', 'VIP']:\n",
    "    print(df_train[col].value_counts())\n",
    "    df_train[col].value_counts().plot.bar()\n",
    "    plt.title(col)\n",
    "    plt.show()"
   ]
  },
  {
   "cell_type": "code",
   "execution_count": 14,
   "id": "5e03724d",
   "metadata": {},
   "outputs": [
    {
     "data": {
      "text/plain": [
       "Text(0.5, 1.0, 'Age')"
      ]
     },
     "execution_count": 14,
     "metadata": {},
     "output_type": "execute_result"
    },
    {
     "data": {
      "image/png": "[encoded data removed]",
      "text/plain": [
       "<Figure size 432x288 with 1 Axes>"
      ]
     },
     "metadata": {
      "needs_background": "light"
     },
     "output_type": "display_data"
    }
   ],
   "source": [
    "df_train['Age'].plot.hist()\n",
    "plt.title('Age')"
   ]
  },
  {
   "cell_type": "markdown",
   "id": "35dfa126",
   "metadata": {},
   "source": [
    "**Edit this cell with your observations**\n",
    "\n",
    "Notes: Write down your observations about each of these features:\n",
    "* Home Planet\n",
    "* Destination\n",
    "* Cryo Sleep\n",
    "* VIP"
   ]
  },
  {
   "cell_type": "markdown",
   "id": "5b054721",
   "metadata": {},
   "source": [
    "**Edit this cell with your observations**\n",
    "\n",
    "Notes: Write down your observations about age distribution."
   ]
  },
  {
   "cell_type": "markdown",
   "id": "28e86c1a",
   "metadata": {},
   "source": [
    "### Function definition cells (edit these at your own risk)"
   ]
  },
  {
   "cell_type": "code",
   "execution_count": 15,
   "id": "7977cca0",
   "metadata": {},
   "outputs": [],
   "source": [
    "def preprocessing_x(df_train, df_test, y, features, encoded_features):\n",
    "    \"\"\" \n",
    "    Pre-process the data to prepare it for model fitting.\n",
    "    \n",
    "    Parameters:\n",
    "        df_train: Training dataframe\n",
    "        df_test: Testing dataframe\n",
    "        y: Targets\n",
    "        features: List of features to use\n",
    "        encoded features: List of features that need to be encoded\n",
    "    \n",
    "    Returns:\n",
    "        X_train: Training features\n",
    "        X_val: Validation features\n",
    "        X_test: Testing features\n",
    "        y_train: Training targets\n",
    "        y_val: Validation targets\n",
    "    \"\"\"\n",
    "    \n",
    "    # define X values as a subset of the dataframe\n",
    "    X = df_train[features]\n",
    "    X_test = df_test[features]\n",
    "    \n",
    "    # Use label encoder to make non-numeric features integers\n",
    "    for feature in encoded_features:\n",
    "        le_x = preprocessing.LabelEncoder()\n",
    "        le_x.fit(X[feature])\n",
    "        X.loc[:,feature] = le_x.transform(X[feature])\n",
    "        X_test.loc[:,feature] = le_x.transform(X_test[feature])\n",
    "\n",
    "    # Split into training and validation data\n",
    "    X_train, X_val, y_train, y_val = model_selection.train_test_split(X, y, test_size=0.33)\n",
    "    \n",
    "    return X_train, X_val, X_test, y_train, y_val"
   ]
  },
  {
   "cell_type": "code",
   "execution_count": 16,
   "id": "a06ea660",
   "metadata": {},
   "outputs": [],
   "source": [
    "def make_classification(clf, features, X_train, y_train, X_val, y_val, X_test):\n",
    "    \"\"\"\n",
    "    Given a classifier and a set of features, fit the model.\n",
    "    \n",
    "    Parameters:\n",
    "        clf: Classifier from sklearn\n",
    "        features: List of features to use\n",
    "        X_train: Training features\n",
    "        y_train: Training targets\n",
    "        X_val: Validation features\n",
    "        y_val: Validation targets\n",
    "        X_test: Testing features\n",
    "        \n",
    "    Returns:\n",
    "        y_test_pred: Predicted test targets\n",
    "    \"\"\"\n",
    "    \n",
    "    # Fit to training data and predict for validation data\n",
    "    pipe = pipeline.make_pipeline(preprocessing.StandardScaler(), clf)\n",
    "    pipe.fit(X_train, y_train)\n",
    "    y_val_pred = pipe.predict(X_val)\n",
    "    \n",
    "    # Print the accuracy score\n",
    "    print(f'Accuracy: {pipe.score(X_val, y_val)}')\n",
    "    \n",
    "    # Make the confusion matrix and display it\n",
    "    cm = metrics.confusion_matrix(y_val, y_val_pred)\n",
    "    disp = metrics.ConfusionMatrixDisplay(confusion_matrix=cm, \n",
    "                                          display_labels=pipe.classes_)\n",
    "    disp.plot()\n",
    "    plt.show()\n",
    "    \n",
    "    # Calculate feature importances, print them, and display them\n",
    "    feature_importance = pipe.steps[1][1].feature_importances_.tolist()\n",
    "\n",
    "    print('Feature importance:')\n",
    "    for i in np.arange(len(feature_importance)):\n",
    "        print(features[i], '\\t', feature_importance[i])\n",
    "    \n",
    "    plt.bar(features, feature_importance)\n",
    "    plt.title('Feature Importance')\n",
    "    plt.xticks(rotation = 90);\n",
    "    plt.show()\n",
    "    \n",
    "    # Try it on the test data for submission\n",
    "    y_test_pred = pipe.predict(X_test)\n",
    "    \n",
    "    return y_test_pred"
   ]
  },
  {
   "cell_type": "markdown",
   "id": "86cf4f2e",
   "metadata": {},
   "source": [
    "## Phase 1: Simple model with limited features\n",
    "\n",
    "**Instructions:**\n",
    "For our initial model, we'll define a set of simple features. Let's start with 'HomePlanet', 'Destination', 'CryoSleep', 'VIP', and 'Age'. Note that all of these except Age are non-numeric categorical features that need to be encoded. The target data also need to be converted to integer values (0, 1) rather than boolean values (False, True).\n",
    "\n",
    "**hints:**\n",
    "For the simple case, I'll give you the syntax. For the complex case, you'll need to do more typing."
   ]
  },
  {
   "cell_type": "code",
   "execution_count": 17,
   "id": "11cfed12",
   "metadata": {},
   "outputs": [],
   "source": [
    "# List of features\n",
    "simple_features = ['HomePlanet', 'Destination', 'CryoSleep', 'VIP', 'Age']\n",
    "\n",
    "# List of non-numeric features\n",
    "encoded_simple_features = ['HomePlanet', 'Destination', 'CryoSleep', 'VIP']\n",
    "\n",
    "# Target column name\n",
    "target_col = 'Transported'"
   ]
  },
  {
   "cell_type": "code",
   "execution_count": 18,
   "id": "a12d0c11",
   "metadata": {},
   "outputs": [],
   "source": [
    "# Extract the target column\n",
    "df_targets = df_train[target_col]\n",
    "\n",
    "# Convert target to integer type\n",
    "y = df_targets.astype(int)"
   ]
  },
  {
   "cell_type": "code",
   "execution_count": 19,
   "id": "19fab3f2",
   "metadata": {},
   "outputs": [],
   "source": [
    "# Run pre-processing for the simple features list\n",
    "X_train, X_val, X_test, y_train, y_val = preprocessing_x(df_train, \n",
    "                                                        df_test, y, simple_features, \n",
    "                                                        encoded_simple_features)"
   ]
  },
  {
   "cell_type": "code",
   "execution_count": 20,
   "id": "b64628a6",
   "metadata": {},
   "outputs": [
    {
     "name": "stdout",
     "output_type": "stream",
     "text": [
      "Accuracy: 0.716626002091321\n"
     ]
    },
    {
     "data": {
      "image/png": "[encoded data removed]",
      "text/plain": [
       "<Figure size 432x288 with 2 Axes>"
      ]
     },
     "metadata": {
      "needs_background": "light"
     },
     "output_type": "display_data"
    },
    {
     "name": "stdout",
     "output_type": "stream",
     "text": [
      "Feature importance:\n",
      "HomePlanet \t 0.09172105426043337\n",
      "Destination \t 0.031264371668824585\n",
      "CryoSleep \t 0.46556994100315596\n",
      "VIP \t 0.004317373929458734\n",
      "Age \t 0.4071272591381273\n"
     ]
    },
    {
     "data": {
      "image/png": "[encoded data removed]",
      "text/plain": [
       "<Figure size 432x288 with 1 Axes>"
      ]
     },
     "metadata": {
      "needs_background": "light"
     },
     "output_type": "display_data"
    }
   ],
   "source": [
    "# Use the random forest classifier \n",
    "clf = ensemble.RandomForestClassifier()\n",
    "\n",
    "# Run the classification\n",
    "y_test_pred = make_classification(clf, simple_features, X_train, \n",
    "                                  y_train, X_val, y_val, X_test)"
   ]
  },
  {
   "cell_type": "markdown",
   "id": "66b15c1e",
   "metadata": {},
   "source": [
    "**Edit this cell with your observations**\n",
    "\n",
    "Notes: Write down your observations below.\n",
    "* How are we doing so far? Is this a 'good' score?\n",
    "* Which are the most important features? The least important?\n",
    "    * Does this surprise you?"
   ]
  },
  {
   "cell_type": "code",
   "execution_count": 21,
   "id": "221c023e",
   "metadata": {},
   "outputs": [],
   "source": [
    "y_simple_submission = pd.DataFrame({'PassengerId': df_test.PassengerId, \n",
    "                                    'Transported': y_test_pred.astype(bool)})\n",
    "y_simple_submission.to_csv('./data/simple_submission.csv', index=False)"
   ]
  },
  {
   "cell_type": "markdown",
   "id": "107956d2",
   "metadata": {},
   "source": [
    "## Phase 2: Complex model with added features\n",
    "\n",
    "**Instructions:**\n",
    "For our second model, we'll define a set of expanded features.\n",
    "\n",
    "* It's worth noting that `Cabin` actually contains three values: deck/num/side\n",
    "    * Probably deck and side are more significant than num\n",
    "* Perhaps the total amount spent across 'RoomService', 'FoodCourt', 'ShoppingMall', 'Spa', and 'VRDeck' would be an interesting feature to include?\n",
    "* If someone is traveling with a group, could it be possible that they either transport or not together?\n",
    "    * Let's assume that the group is important, but the number in the group isn't\n",
    "\n",
    "**hints:**\n",
    "\n",
    "If you have a column that contains text that you want to split on the `/` character, the following may be helpful: `df[['col1', 'col2', 'col3']] = df[col].str.split(pat=\"/\", expand=True)`\n",
    "\n",
    "Similarly, if you want to split on `_`, you could use: `df[['col1', 'col2']] = df[col].str.split(pat=\"_\", expand=True)`"
   ]
  },
  {
   "cell_type": "code",
   "execution_count": 22,
   "id": "5f095285",
   "metadata": {},
   "outputs": [],
   "source": [
    "df_train[[\"Deck\", \"Num\", \"Side\"]] = df_train['Cabin'].str.split(pat=\"/\", expand=True)\n",
    "df_test[[\"Deck\", \"Num\", \"Side\"]] = df_test['Cabin'].str.split(pat=\"/\", expand=True)"
   ]
  },
  {
   "cell_type": "code",
   "execution_count": 23,
   "id": "e04097be",
   "metadata": {},
   "outputs": [
    {
     "data": {
      "text/html": [
       "<div>\n",
       "<style scoped>\n",
       "    .dataframe tbody tr th:only-of-type {\n",
       "        vertical-align: middle;\n",
       "    }\n",
       "\n",
       "    .dataframe tbody tr th {\n",
       "        vertical-align: top;\n",
       "    }\n",
       "\n",
       "    .dataframe thead th {\n",
       "        text-align: right;\n",
       "    }\n",
       "</style>\n",
       "<table border=\"1\" class=\"dataframe\">\n",
       "  <thead>\n",
       "    <tr style=\"text-align: right;\">\n",
       "      <th></th>\n",
       "      <th>PassengerId</th>\n",
       "      <th>HomePlanet</th>\n",
       "      <th>CryoSleep</th>\n",
       "      <th>Cabin</th>\n",
       "      <th>Destination</th>\n",
       "      <th>Age</th>\n",
       "      <th>VIP</th>\n",
       "      <th>RoomService</th>\n",
       "      <th>FoodCourt</th>\n",
       "      <th>ShoppingMall</th>\n",
       "      <th>Spa</th>\n",
       "      <th>VRDeck</th>\n",
       "      <th>Name</th>\n",
       "      <th>Transported</th>\n",
       "      <th>Deck</th>\n",
       "      <th>Num</th>\n",
       "      <th>Side</th>\n",
       "    </tr>\n",
       "  </thead>\n",
       "  <tbody>\n",
       "    <tr>\n",
       "      <th>0</th>\n",
       "      <td>0001_01</td>\n",
       "      <td>Europa</td>\n",
       "      <td>False</td>\n",
       "      <td>B/0/P</td>\n",
       "      <td>TRAPPIST-1e</td>\n",
       "      <td>39.0</td>\n",
       "      <td>False</td>\n",
       "      <td>0.0</td>\n",
       "      <td>0.0</td>\n",
       "      <td>0.0</td>\n",
       "      <td>0.0</td>\n",
       "      <td>0.0</td>\n",
       "      <td>Maham Ofracculy</td>\n",
       "      <td>False</td>\n",
       "      <td>B</td>\n",
       "      <td>0</td>\n",
       "      <td>P</td>\n",
       "    </tr>\n",
       "    <tr>\n",
       "      <th>1</th>\n",
       "      <td>0002_01</td>\n",
       "      <td>Earth</td>\n",
       "      <td>False</td>\n",
       "      <td>F/0/S</td>\n",
       "      <td>TRAPPIST-1e</td>\n",
       "      <td>24.0</td>\n",
       "      <td>False</td>\n",
       "      <td>109.0</td>\n",
       "      <td>9.0</td>\n",
       "      <td>25.0</td>\n",
       "      <td>549.0</td>\n",
       "      <td>44.0</td>\n",
       "      <td>Juanna Vines</td>\n",
       "      <td>True</td>\n",
       "      <td>F</td>\n",
       "      <td>0</td>\n",
       "      <td>S</td>\n",
       "    </tr>\n",
       "    <tr>\n",
       "      <th>2</th>\n",
       "      <td>0003_01</td>\n",
       "      <td>Europa</td>\n",
       "      <td>False</td>\n",
       "      <td>A/0/S</td>\n",
       "      <td>TRAPPIST-1e</td>\n",
       "      <td>58.0</td>\n",
       "      <td>True</td>\n",
       "      <td>43.0</td>\n",
       "      <td>3576.0</td>\n",
       "      <td>0.0</td>\n",
       "      <td>6715.0</td>\n",
       "      <td>49.0</td>\n",
       "      <td>Altark Susent</td>\n",
       "      <td>False</td>\n",
       "      <td>A</td>\n",
       "      <td>0</td>\n",
       "      <td>S</td>\n",
       "    </tr>\n",
       "    <tr>\n",
       "      <th>3</th>\n",
       "      <td>0003_02</td>\n",
       "      <td>Europa</td>\n",
       "      <td>False</td>\n",
       "      <td>A/0/S</td>\n",
       "      <td>TRAPPIST-1e</td>\n",
       "      <td>33.0</td>\n",
       "      <td>False</td>\n",
       "      <td>0.0</td>\n",
       "      <td>1283.0</td>\n",
       "      <td>371.0</td>\n",
       "      <td>3329.0</td>\n",
       "      <td>193.0</td>\n",
       "      <td>Solam Susent</td>\n",
       "      <td>False</td>\n",
       "      <td>A</td>\n",
       "      <td>0</td>\n",
       "      <td>S</td>\n",
       "    </tr>\n",
       "    <tr>\n",
       "      <th>4</th>\n",
       "      <td>0004_01</td>\n",
       "      <td>Earth</td>\n",
       "      <td>False</td>\n",
       "      <td>F/1/S</td>\n",
       "      <td>TRAPPIST-1e</td>\n",
       "      <td>16.0</td>\n",
       "      <td>False</td>\n",
       "      <td>303.0</td>\n",
       "      <td>70.0</td>\n",
       "      <td>151.0</td>\n",
       "      <td>565.0</td>\n",
       "      <td>2.0</td>\n",
       "      <td>Willy Santantines</td>\n",
       "      <td>True</td>\n",
       "      <td>F</td>\n",
       "      <td>1</td>\n",
       "      <td>S</td>\n",
       "    </tr>\n",
       "  </tbody>\n",
       "</table>\n",
       "</div>"
      ],
      "text/plain": [
       "  PassengerId HomePlanet  CryoSleep  Cabin  Destination   Age    VIP  \\\n",
       "0     0001_01     Europa      False  B/0/P  TRAPPIST-1e  39.0  False   \n",
       "1     0002_01      Earth      False  F/0/S  TRAPPIST-1e  24.0  False   \n",
       "2     0003_01     Europa      False  A/0/S  TRAPPIST-1e  58.0   True   \n",
       "3     0003_02     Europa      False  A/0/S  TRAPPIST-1e  33.0  False   \n",
       "4     0004_01      Earth      False  F/1/S  TRAPPIST-1e  16.0  False   \n",
       "\n",
       "   RoomService  FoodCourt  ShoppingMall     Spa  VRDeck               Name  \\\n",
       "0          0.0        0.0           0.0     0.0     0.0    Maham Ofracculy   \n",
       "1        109.0        9.0          25.0   549.0    44.0       Juanna Vines   \n",
       "2         43.0     3576.0           0.0  6715.0    49.0      Altark Susent   \n",
       "3          0.0     1283.0         371.0  3329.0   193.0       Solam Susent   \n",
       "4        303.0       70.0         151.0   565.0     2.0  Willy Santantines   \n",
       "\n",
       "   Transported Deck Num Side  \n",
       "0        False    B   0    P  \n",
       "1         True    F   0    S  \n",
       "2        False    A   0    S  \n",
       "3        False    A   0    S  \n",
       "4         True    F   1    S  "
      ]
     },
     "execution_count": 23,
     "metadata": {},
     "output_type": "execute_result"
    }
   ],
   "source": [
    "df_train.head(5)"
   ]
  },
  {
   "cell_type": "code",
   "execution_count": 24,
   "id": "c0ea06da",
   "metadata": {},
   "outputs": [
    {
     "name": "stdout",
     "output_type": "stream",
     "text": [
      "F    2794\n",
      "G    2758\n",
      "E     876\n",
      "B     779\n",
      "C     747\n",
      "D     478\n",
      "A     256\n",
      "T       5\n",
      "Name: Deck, dtype: int64\n"
     ]
    },
    {
     "data": {
      "image/png": "[encoded data removed]",
      "text/plain": [
       "<Figure size 432x288 with 1 Axes>"
      ]
     },
     "metadata": {
      "needs_background": "light"
     },
     "output_type": "display_data"
    },
    {
     "name": "stdout",
     "output_type": "stream",
     "text": [
      "S    4487\n",
      "P    4206\n",
      "Name: Side, dtype: int64\n"
     ]
    },
    {
     "data": {
      "image/png": "[encoded data removed]",
      "text/plain": [
       "<Figure size 432x288 with 1 Axes>"
      ]
     },
     "metadata": {
      "needs_background": "light"
     },
     "output_type": "display_data"
    }
   ],
   "source": [
    "for col in ['Deck', 'Side']:\n",
    "    print(df_train[col].value_counts())\n",
    "    df_train[col].value_counts().plot.bar()\n",
    "    plt.title(col)\n",
    "    plt.show()"
   ]
  },
  {
   "cell_type": "code",
   "execution_count": 25,
   "id": "f30f4e99",
   "metadata": {},
   "outputs": [],
   "source": [
    "df_train['total_spent'] = df_train[['RoomService','FoodCourt',\n",
    "                                   'ShoppingMall','Spa','VRDeck']].sum(axis=1)\n",
    "df_test['total_spent'] = df_test[['RoomService','FoodCourt',\n",
    "                                   'ShoppingMall','Spa','VRDeck']].sum(axis=1)"
   ]
  },
  {
   "cell_type": "code",
   "execution_count": 26,
   "id": "56db0378",
   "metadata": {},
   "outputs": [],
   "source": [
    "df_train[['Group', 'Person_Num']] = df_train['PassengerId'].str.split(pat=\"_\", expand=True)\n",
    "df_train[['Group', 'Person_Num']] = df_train[['Group', 'Person_Num']].astype(int)\n",
    "\n",
    "df_test[['Group', 'Person_Num']] = df_test['PassengerId'].str.split(pat=\"_\", expand=True)\n",
    "df_test[['Group', 'Person_Num']] = df_test[['Group', 'Person_Num']].astype(int)"
   ]
  },
  {
   "cell_type": "code",
   "execution_count": 27,
   "id": "15a917bd",
   "metadata": {},
   "outputs": [
    {
     "data": {
      "text/plain": [
       "Text(0.5, 1.0, 'Total Spent')"
      ]
     },
     "execution_count": 27,
     "metadata": {},
     "output_type": "execute_result"
    },
    {
     "data": {
      "image/png": "[encoded data removed]",
      "text/plain": [
       "<Figure size 432x288 with 1 Axes>"
      ]
     },
     "metadata": {
      "needs_background": "light"
     },
     "output_type": "display_data"
    }
   ],
   "source": [
    "df_train['total_spent'].plot.hist()\n",
    "plt.title('Total Spent')"
   ]
  },
  {
   "cell_type": "code",
   "execution_count": 28,
   "id": "080b1f28",
   "metadata": {},
   "outputs": [],
   "source": [
    "complex_features = ['HomePlanet', 'Destination', 'CryoSleep', 'VIP', 'Age', \n",
    "                    'Deck', 'Side','RoomService','FoodCourt',\n",
    "                    'ShoppingMall','Spa','VRDeck', 'Group', 'total_spent']\n",
    "encoded_complex_features = ['HomePlanet', 'Destination', 'CryoSleep', 'VIP', \n",
    "                            'Deck', 'Side']"
   ]
  },
  {
   "cell_type": "code",
   "execution_count": 29,
   "id": "ad41744b",
   "metadata": {},
   "outputs": [],
   "source": [
    "X_train, X_val, X_test, y_train, y_val = preprocessing_x(df_train, \n",
    "                                                        df_test, y, complex_features, \n",
    "                                                        encoded_complex_features)"
   ]
  },
  {
   "cell_type": "code",
   "execution_count": 30,
   "id": "6622f4c4",
   "metadata": {},
   "outputs": [
    {
     "name": "stdout",
     "output_type": "stream",
     "text": [
      "Accuracy: 0.7995817357964448\n"
     ]
    },
    {
     "data": {
      "image/png": "[encoded data removed]",
      "text/plain": [
       "<Figure size 432x288 with 2 Axes>"
      ]
     },
     "metadata": {
      "needs_background": "light"
     },
     "output_type": "display_data"
    },
    {
     "name": "stdout",
     "output_type": "stream",
     "text": [
      "Feature importance:\n",
      "HomePlanet \t 0.03118585831454597\n",
      "Destination \t 0.022172829794781655\n",
      "CryoSleep \t 0.06543374867728528\n",
      "VIP \t 0.0021131564203293466\n",
      "Age \t 0.11985894659214753\n",
      "Deck \t 0.05305124188207954\n",
      "Side \t 0.019251817431534715\n",
      "RoomService \t 0.07045677090629783\n",
      "FoodCourt \t 0.08181993060099843\n",
      "ShoppingMall \t 0.06712914720201747\n",
      "Spa \t 0.07657304157216735\n",
      "VRDeck \t 0.08093637022495366\n",
      "Group \t 0.17304074172685183\n",
      "total_spent \t 0.13697639865400948\n"
     ]
    },
    {
     "data": {
      "image/png": "[encoded data removed]",
      "text/plain": [
       "<Figure size 432x288 with 1 Axes>"
      ]
     },
     "metadata": {
      "needs_background": "light"
     },
     "output_type": "display_data"
    }
   ],
   "source": [
    "clf = ensemble.RandomForestClassifier()\n",
    "y_test_pred = make_classification(clf, complex_features, X_train, y_train, X_val, y_val, X_test)"
   ]
  },
  {
   "cell_type": "markdown",
   "id": "6311024d",
   "metadata": {},
   "source": [
    "**Edit this cell with your observations**\n",
    "\n",
    "Notes: Write down your observations below.\n",
    "* How are we doing so far? Is this a 'better' score?\n",
    "* Which are the most important features? The least important?\n",
    "    * Are there any new features that are praticularly useful?"
   ]
  },
  {
   "cell_type": "code",
   "execution_count": 31,
   "id": "b261a280",
   "metadata": {},
   "outputs": [],
   "source": [
    "y_complex_submission = pd.DataFrame({'PassengerId': df_test.PassengerId, \n",
    "                                    'Transported': y_test_pred.astype(bool)})\n",
    "y_complex_submission.to_csv('./data/complex_submission.csv', index=False)"
   ]
  },
  {
   "cell_type": "markdown",
   "id": "e3c3275b",
   "metadata": {},
   "source": [
    "### Random observation time:\n",
    "\n",
    "Something the suprised me was that the VIP status didn't matter more, but VIPs were less likely to be transported than non-VIPs."
   ]
  },
  {
   "cell_type": "code",
   "execution_count": 32,
   "id": "92b96c1f",
   "metadata": {},
   "outputs": [
    {
     "data": {
      "text/plain": [
       "<AxesSubplot:>"
      ]
     },
     "execution_count": 32,
     "metadata": {},
     "output_type": "execute_result"
    },
    {
     "data": {
      "image/png": "[encoded data removed]",
      "text/plain": [
       "<Figure size 432x288 with 1 Axes>"
      ]
     },
     "metadata": {
      "needs_background": "light"
     },
     "output_type": "display_data"
    }
   ],
   "source": [
    "df_train[df_train['VIP']==True]['Transported'].value_counts().plot.bar()"
   ]
  },
  {
   "cell_type": "code",
   "execution_count": 33,
   "id": "c90c6fa5",
   "metadata": {},
   "outputs": [
    {
     "data": {
      "text/plain": [
       "<AxesSubplot:>"
      ]
     },
     "execution_count": 33,
     "metadata": {},
     "output_type": "execute_result"
    },
    {
     "data": {
      "image/png": "[encoded data removed]",
      "text/plain": [
       "<Figure size 432x288 with 1 Axes>"
      ]
     },
     "metadata": {
      "needs_background": "light"
     },
     "output_type": "display_data"
    }
   ],
   "source": [
    "df_train[df_train['VIP']==False]['Transported'].value_counts().plot.bar()"
   ]
  },
  {
   "cell_type": "markdown",
   "id": "2877abec",
   "metadata": {},
   "source": [
    "## Phase 3: Optimize the hyper-parameters\n",
    "\n",
    "Okay, so we have a decent model. But notice that we didn't do ANY hyper-parameter tuning so far. We just went with the default values.\n",
    "\n",
    "For more about grid search, click [here](https://scikit-learn.org/stable/modules/grid_search.html)\n",
    "\n",
    "We will be using a randomized search. See [here](https://scikit-learn.org/stable/modules/generated/sklearn.model_selection.RandomizedSearchCV.html#sklearn.model_selection.RandomizedSearchCV) for more details.\n",
    "\n",
    "\n",
    "**I'm giving these cells to you \"for free\" but you can feel free to mess around with the values and such if you'd like.**"
   ]
  },
  {
   "cell_type": "markdown",
   "id": "acc884c0",
   "metadata": {},
   "source": [
    "Note: credit for the following few cells goes to this article: https://towardsdatascience.com/hyperparameter-tuning-the-random-forest-in-python-using-scikit-learn-28d2aa77dd74"
   ]
  },
  {
   "cell_type": "code",
   "execution_count": 34,
   "id": "2b09ca8d",
   "metadata": {},
   "outputs": [],
   "source": [
    "# Number of trees in random forest\n",
    "n_estimators = [int(x) for x in np.linspace(start = 200, stop = 2000, num = 10)]\n",
    "# Number of features to consider at every split\n",
    "max_features = ['auto', 'sqrt']\n",
    "# Maximum number of levels in tree\n",
    "max_depth = [int(x) for x in np.linspace(10, 110, num = 11)]\n",
    "max_depth.append(None)\n",
    "# Minimum number of samples required to split a node\n",
    "min_samples_split = [2, 5, 10]\n",
    "# Minimum number of samples required at each leaf node\n",
    "min_samples_leaf = [1, 2, 4]\n",
    "# Method of selecting samples for training each tree\n",
    "bootstrap = [True, False]\n",
    "# Create the random grid\n",
    "random_grid = {'n_estimators': n_estimators,\n",
    "               'max_features': max_features,\n",
    "               'max_depth': max_depth,\n",
    "               'min_samples_split': min_samples_split,\n",
    "               'min_samples_leaf': min_samples_leaf,\n",
    "               'bootstrap': bootstrap}"
   ]
  },
  {
   "cell_type": "code",
   "execution_count": 35,
   "id": "1c9bf602",
   "metadata": {},
   "outputs": [],
   "source": [
    "clf_random = model_selection.RandomizedSearchCV(estimator = clf, \n",
    "                               param_distributions = random_grid, \n",
    "                               n_iter = 30, cv = 3, verbose=2, \n",
    "                               random_state=42, n_jobs = -1)"
   ]
  },
  {
   "cell_type": "code",
   "execution_count": 36,
   "id": "d99f665e",
   "metadata": {},
   "outputs": [
    {
     "name": "stdout",
     "output_type": "stream",
     "text": [
      "Fitting 3 folds for each of 30 candidates, totalling 90 fits\n"
     ]
    },
    {
     "data": {
      "text/plain": [
       "RandomizedSearchCV(cv=3, estimator=RandomForestClassifier(), n_iter=30,\n",
       "                   n_jobs=-1,\n",
       "                   param_distributions={'bootstrap': [True, False],\n",
       "                                        'max_depth': [10, 20, 30, 40, 50, 60,\n",
       "                                                      70, 80, 90, 100, 110,\n",
       "                                                      None],\n",
       "                                        'max_features': ['auto', 'sqrt'],\n",
       "                                        'min_samples_leaf': [1, 2, 4],\n",
       "                                        'min_samples_split': [2, 5, 10],\n",
       "                                        'n_estimators': [200, 400, 600, 800,\n",
       "                                                         1000, 1200, 1400, 1600,\n",
       "                                                         1800, 2000]},\n",
       "                   random_state=42, verbose=2)"
      ]
     },
     "execution_count": 36,
     "metadata": {},
     "output_type": "execute_result"
    }
   ],
   "source": [
    "clf_random.fit(X_train, y_train)"
   ]
  },
  {
   "cell_type": "code",
   "execution_count": 37,
   "id": "d5856913",
   "metadata": {},
   "outputs": [
    {
     "data": {
      "text/plain": [
       "{'n_estimators': 1400,\n",
       " 'min_samples_split': 5,\n",
       " 'min_samples_leaf': 1,\n",
       " 'max_features': 'sqrt',\n",
       " 'max_depth': 30,\n",
       " 'bootstrap': True}"
      ]
     },
     "execution_count": 37,
     "metadata": {},
     "output_type": "execute_result"
    }
   ],
   "source": [
    "clf_random.best_params_"
   ]
  },
  {
   "cell_type": "code",
   "execution_count": 38,
   "id": "6bf33dfd",
   "metadata": {},
   "outputs": [
    {
     "name": "stdout",
     "output_type": "stream",
     "text": [
      "Accuracy: 0.8030672708260718\n"
     ]
    },
    {
     "data": {
      "image/png": "[encoded data removed]",
      "text/plain": [
       "<Figure size 432x288 with 2 Axes>"
      ]
     },
     "metadata": {
      "needs_background": "light"
     },
     "output_type": "display_data"
    },
    {
     "name": "stdout",
     "output_type": "stream",
     "text": [
      "Feature importance:\n",
      "HomePlanet \t 0.034327557271409466\n",
      "Destination \t 0.020968952157032667\n",
      "CryoSleep \t 0.0690972613427385\n",
      "VIP \t 0.001924950383545147\n",
      "Age \t 0.10729908835447716\n",
      "Deck \t 0.053485438009221356\n",
      "Side \t 0.017871519041970377\n",
      "RoomService \t 0.07923618644898077\n",
      "FoodCourt \t 0.0818378876263938\n",
      "ShoppingMall \t 0.06387656920922723\n",
      "Spa \t 0.08890636240242589\n",
      "VRDeck \t 0.0850256769224103\n",
      "Group \t 0.14553676155327078\n",
      "total_spent \t 0.15060578927689663\n"
     ]
    },
    {
     "data": {
      "image/png": "[encoded data removed]",
      "text/plain": [
       "<Figure size 432x288 with 1 Axes>"
      ]
     },
     "metadata": {
      "needs_background": "light"
     },
     "output_type": "display_data"
    }
   ],
   "source": [
    "best_random = clf_random.best_estimator_\n",
    "y_test_pred = make_classification(best_random, complex_features, \n",
    "                                  X_train, y_train, X_val, y_val, X_test)"
   ]
  },
  {
   "cell_type": "code",
   "execution_count": 39,
   "id": "cfa7e8f4",
   "metadata": {},
   "outputs": [],
   "source": [
    "y_best_submission = pd.DataFrame({'PassengerId': df_test.PassengerId, \n",
    "                                    'Transported': y_test_pred.astype(bool)})\n",
    "y_best_submission.to_csv('./data/best_submission.csv', index=False)"
   ]
  },
  {
   "cell_type": "markdown",
   "id": "d6bfc0b4",
   "metadata": {},
   "source": [
    "**Edit this cell with your observations**\n",
    "\n",
    "Notes: Write down your observations below.\n",
    "* How did we do? Is this the 'best' score?\n",
    "* Did tuning improve the score?\n",
    "* Would tuning matter more or less in other models?\n",
    "* Take a look at the [leaderboard](https://www.kaggle.com/c/spaceship-titanic/leaderboard#)"
   ]
  },
  {
   "cell_type": "markdown",
   "id": "9068114e",
   "metadata": {},
   "source": [
    "## Phase 4: Freeform time\n",
    "\n",
    "Want to play aorund with some other models? Retune parameters? Add more features? Here's your chance to try to improve. Work alone or ask you neighbor for help. Maybe form a team on kaggle and create your own submission!"
   ]
  },
  {
   "cell_type": "code",
   "execution_count": null,
   "id": "a410552f",
   "metadata": {},
   "outputs": [],
   "source": []
  }
 ],
 "metadata": {
  "kernelspec": {
   "display_name": "Python 3",
   "language": "python",
   "name": "python3"
  },
  "language_info": {
   "codemirror_mode": {
    "name": "ipython",
    "version": 3
   },
   "file_extension": ".py",
   "mimetype": "text/x-python",
   "name": "python",
   "nbconvert_exporter": "python",
   "pygments_lexer": "ipython3",
   "version": "3.8.8"
  }
 },
 "nbformat": 4,
 "nbformat_minor": 5
}
